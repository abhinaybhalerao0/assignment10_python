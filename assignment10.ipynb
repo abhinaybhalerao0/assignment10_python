{
 "cells": [
  {
   "cell_type": "code",
   "execution_count": null,
   "id": "50388cb0-f9fd-4db2-8254-bdc011fa4efc",
   "metadata": {},
   "outputs": [],
   "source": [
    "### 1. Write a Python program to find sum of elements in list?\"\n",
    "lst = input(\"enter a list of no. seperated by spaces\")\n",
    "\n",
    "lst = [int(num) for num in lst.split()]\n",
    "\n",
    "sum_of_elements = sum(lst)\n",
    "\n",
    "print(\"the sum of elements in the list is\", sum_of_elements)\n"
   ]
  },
  {
   "cell_type": "code",
   "execution_count": null,
   "id": "a715e7a9-84f0-4e15-8610-57c73591a7aa",
   "metadata": {},
   "outputs": [],
   "source": [
    "### 2. Write a Python program to  Multiply all numbers in the list?\n",
    "lst = input(\"enter the list of no seperated by spaces\")\n",
    "\n",
    "lst = [int(num) for num in lst.split()]\n",
    "\n",
    "product = 1\n",
    "\n",
    "for num in lst:\n",
    "    product *= num\n",
    "    \n",
    "print(\"the product of the no in the list is\", product)    "
   ]
  },
  {
   "cell_type": "code",
   "execution_count": null,
   "id": "d9391126-dfa7-4c31-9f0e-3b3c2d41408f",
   "metadata": {},
   "outputs": [],
   "source": [
    "### 3. Write a Python program to find smallest number in a list?\n",
    "lst = input(\"enter the list of no seperated by spaces\")\n",
    "lst =[int(num) for num in lst.split()]\n",
    "    \n",
    "    \n",
    "smallest = lst[0]\n",
    "\n",
    "for num in lst:\n",
    "    if num < smallest:\n",
    "        smallest = num\n",
    "        \n",
    "print(\"the smallest no in the list\", smallest)"
   ]
  },
  {
   "cell_type": "code",
   "execution_count": null,
   "id": "52cbc55e-1789-4ab9-9a94-c83ca4529a90",
   "metadata": {},
   "outputs": [],
   "source": [
    "### 4. Write a Python program to find largest number in a list?\n",
    "lst = input(\"enter the list of no seperated by spaces\")\n",
    "lst =[int(num) for num in lst.split()]\n",
    "\n",
    "largest = lst[0]\n",
    "\n",
    "for num in lst:\n",
    "    if num > largest:\n",
    "        largest = num\n",
    "        \n",
    "print(\"the largest no in the list\", largest)"
   ]
  },
  {
   "cell_type": "code",
   "execution_count": null,
   "id": "c5d81d7d-f633-43d2-94ec-1a9c98ddd1c6",
   "metadata": {},
   "outputs": [],
   "source": [
    "### 5. Write a Python program to find second largest number in a list?\n",
    "\n",
    "lst = input(\"enter the list of no. seperated by spaces\")\n",
    "\n",
    "lst = [int(num) for num in lst.split()]\n",
    "\n",
    "largest = second_largest = lst[0]\n",
    "\n",
    "for num in lst:\n",
    "    if num > largest:\n",
    "        second_largest = largest\n",
    "        largest = num\n",
    "    elif num > second_largest and num != largest:\n",
    "        second_largest = num\n",
    "        \n",
    "print(\"the second largest no. in the list\", second_largest)"
   ]
  },
  {
   "cell_type": "code",
   "execution_count": 6,
   "id": "4fb2e267-1a1b-4e08-9408-96753f26e261",
   "metadata": {},
   "outputs": [
    {
     "name": "stdin",
     "output_type": "stream",
     "text": [
      "enter the list of the no. seperated by spaces 87 98 89 67 56 35 45\n",
      "enter the value of n 67\n"
     ]
    },
    {
     "name": "stdout",
     "output_type": "stream",
     "text": [
      "the 67 largest element in the list are [98, 89, 87, 67, 56, 45, 35]\n"
     ]
    }
   ],
   "source": [
    "### 6. Write a Python program to find N largest elements from a list?\n",
    "lst = input(\"enter the list of the no. seperated by spaces\")\n",
    "\n",
    "lst = [int(num) for num in lst.split()]\n",
    "\n",
    "n = int(input(\"enter the value of n\"))\n",
    "\n",
    "lst_sorted = sorted(lst, reverse=True)\n",
    "\n",
    "\n",
    "print(\"the\", n, \"largest element in the list are\", lst_sorted[:n])"
   ]
  },
  {
   "cell_type": "code",
   "execution_count": 5,
   "id": "63043c4a-04e8-4564-9d9e-61a870b533ce",
   "metadata": {},
   "outputs": [
    {
     "name": "stdin",
     "output_type": "stream",
     "text": [
      "enter the list of tht no. seperated by spaces 89 78 67 65 56\n"
     ]
    },
    {
     "name": "stdout",
     "output_type": "stream",
     "text": [
      "Even numbers in the list are:\n",
      "78\n",
      "56\n"
     ]
    }
   ],
   "source": [
    "### 7. Write a Python program to print even numbers in a list?\n",
    "lst = input(\"enter the list of tht no. seperated by spaces\")\n",
    "\n",
    "lst=[int(num) for num in lst.split()]\n",
    "\n",
    "print(\"Even numbers in the list are:\")\n",
    "for num in lst:\n",
    "    if num % 2 == 0:\n",
    "        print(num)"
   ]
  },
  {
   "cell_type": "code",
   "execution_count": 4,
   "id": "b219db0b-beec-484a-8519-4530fbd56da1",
   "metadata": {},
   "outputs": [
    {
     "name": "stdin",
     "output_type": "stream",
     "text": [
      "enter the list of element seperated by spaces 78 98 67 56 45\n"
     ]
    },
    {
     "name": "stdout",
     "output_type": "stream",
     "text": [
      "odd numbers in the list are\n",
      "67\n",
      "45\n"
     ]
    }
   ],
   "source": [
    "### 8. Write a Python program to print odd numbers in a List?\n",
    "lst = input(\"enter the list of element seperated by spaces\")\n",
    "lst=[int(num) for num in lst.split()]\n",
    "\n",
    "print(\"odd numbers in the list are\")\n",
    "for num in lst:\n",
    "    if num % 2 != 0:\n",
    "        print(num)"
   ]
  },
  {
   "cell_type": "code",
   "execution_count": 3,
   "id": "be2a310f-ad75-4abc-8168-0bcc356d9a10",
   "metadata": {},
   "outputs": [
    {
     "name": "stdin",
     "output_type": "stream",
     "text": [
      "Enter a list of elements:  67 89 78 56 45 34\n"
     ]
    },
    {
     "name": "stdout",
     "output_type": "stream",
     "text": [
      "List after removing empty lists: [67, 89, 78, 56, 45, 34]\n"
     ]
    }
   ],
   "source": [
    "# Take input from the user\n",
    "lst = input(\"Enter a list of elements: \")\n",
    "\n",
    "# Convert the input string into a list of lists\n",
    "lst = [eval(x) for x in lst.split()]\n",
    "\n",
    "# Use a list comprehension to remove empty lists from the list\n",
    "lst = [x for x in lst if x]\n",
    "\n",
    "# Print the updated list\n",
    "print(\"List after removing empty lists:\", lst)"
   ]
  },
  {
   "cell_type": "code",
   "execution_count": 17,
   "id": "fbc03900-1281-4794-afbc-6447dae3122b",
   "metadata": {},
   "outputs": [
    {
     "name": "stdin",
     "output_type": "stream",
     "text": [
      "enter the list of elements 78 56 90 76\n"
     ]
    },
    {
     "name": "stdout",
     "output_type": "stream",
     "text": [
      "original list [78, 56, 90, 76]\n",
      "cloned list [78, 56, 90, 76]\n"
     ]
    }
   ],
   "source": [
    "### 10. Write a Python program to Cloning or Copying a list?\n",
    "lst = input(\"enter the list of elements\")\n",
    "\n",
    "lst = [int(num) for num in lst.split()]\n",
    "\n",
    "clone_lst = lst[:]\n",
    "\n",
    "print(\"original list\", lst)\n",
    "print(\"cloned list\", clone_lst)\n",
    "\n",
    "##A clone list is a new list that contains all the elements of an existing list.\n",
    "##Cloning a list creates a copy of the original list, so any changes made to the clone list will not affect the original list.\n",
    "\n",
    "#In Python, you can clone a list using the slice operator. For example, if list1 is an existing list, you can clone it using the following syntax:\n",
    "\n",
    "#python\n",
    "#Copy code\n",
    "#list2 = list1[:]"
   ]
  },
  {
   "cell_type": "code",
   "execution_count": null,
   "id": "dc3174af-97c8-407f-abf3-537493091f45",
   "metadata": {},
   "outputs": [],
   "source": [
    "### 11. Write a Python program to Count occurrences of an element in a list?\n",
    "lst = input(\"enter the list of elements\")\n",
    "element =  input(\"enter thr element to count\")\n",
    "lst=[int(num) for num in lst.split()]\n",
    "count = lst.count(int(element))\n",
    "print(\"th"
   ]
  }
 ],
 "metadata": {
  "kernelspec": {
   "display_name": "Python 3 (ipykernel)",
   "language": "python",
   "name": "python3"
  },
  "language_info": {
   "codemirror_mode": {
    "name": "ipython",
    "version": 3
   },
   "file_extension": ".py",
   "mimetype": "text/x-python",
   "name": "python",
   "nbconvert_exporter": "python",
   "pygments_lexer": "ipython3",
   "version": "3.10.6"
  }
 },
 "nbformat": 4,
 "nbformat_minor": 5
}
